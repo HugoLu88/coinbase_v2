{
 "cells": [
  {
   "cell_type": "markdown",
   "metadata": {},
   "source": [
    "### Imports"
   ]
  },
  {
   "cell_type": "code",
   "execution_count": 2,
   "metadata": {},
   "outputs": [],
   "source": [
    "import pandas as pd\n",
    "import cbpro\n",
    "import datetime\n",
    "from datetime import datetime as dt\n",
    "import numpy as np\n",
    "import time\n",
    "import pickle\n",
    "import configparser"
   ]
  },
  {
   "cell_type": "code",
   "execution_count": 29,
   "metadata": {},
   "outputs": [],
   "source": [
    "## Bring in cbpro public client\n",
    "public_client = cbpro.PublicClient()\n",
    "products = public_client.get_products()"
   ]
  },
  {
   "cell_type": "code",
   "execution_count": 30,
   "metadata": {},
   "outputs": [],
   "source": [
    "product_names = []\n",
    "for i in products:\n",
    "    product_names.append(i['id'])"
   ]
  },
  {
   "cell_type": "code",
   "execution_count": 31,
   "metadata": {},
   "outputs": [
    {
     "data": {
      "text/plain": [
       "['C:\\\\Users\\\\hlu\\\\repos\\\\coinbase_v2\\\\config_global.ini']"
      ]
     },
     "execution_count": 31,
     "metadata": {},
     "output_type": "execute_result"
    }
   ],
   "source": [
    "config = configparser.ConfigParser()\n",
    "config.read(r'C:\\Users\\hlu\\repos\\coinbase_v2\\config_global.ini')"
   ]
  },
  {
   "cell_type": "markdown",
   "metadata": {},
   "source": [
    "### Parameters "
   ]
  },
  {
   "cell_type": "code",
   "execution_count": 32,
   "metadata": {},
   "outputs": [],
   "source": [
    "now = datetime.datetime.now()\n",
    "end = now - datetime.timedelta(days=1)\n",
    "start = end - datetime.timedelta(days=100)\n",
    "candles = 200 # Max number of candles that can be ingested through API\n",
    "instruments = product_names\n",
    "granularity = config['PARAMETERS']['granularity']\n",
    "if granularity ==\"minutes\":\n",
    "    granularity = 60"
   ]
  },
  {
   "cell_type": "markdown",
   "metadata": {},
   "source": [
    "### Functions"
   ]
  },
  {
   "cell_type": "code",
   "execution_count": 33,
   "metadata": {},
   "outputs": [],
   "source": [
    "#Function for pulling in data fromcbpro\n",
    "def pull_data(gran_,start,end,candles,instrument):    #granularity [60, 300, 900, 3600, 21600, 86400]\n",
    "    accepted_gran = [60, 300, 900, 3600, 21600, 86400]\n",
    "    if gran_ not in accepted_gran:\n",
    "        print(\"granularity wrong\")\n",
    "        return\n",
    "    gran_mins = gran_/60\n",
    "    gran_hours = gran_mins/60\n",
    "    gran_days = gran_hours / 24\n",
    "    duration = ((end-start)/gran_).seconds + ((end-start)/gran_).days*24*60*60\n",
    "    print(duration)\n",
    "    iterations = int(np.ceil(duration/200))\n",
    "    new_df = pd.DataFrame()\n",
    "    print(\"starting\")\n",
    "    print(iterations)\n",
    "    for i in range(0,iterations):\n",
    "        #print(i)\n",
    "        time.sleep(0.2)\n",
    "        if i ==0:\n",
    "            end = end\n",
    "            start = end-datetime.timedelta(minutes = gran_mins*200)\n",
    "            v = public_client.get_product_historic_rates(instrument, start, end,  granularity=gran_)\n",
    "            BTC_prices = pd.DataFrame(v)\n",
    "            new_df = new_df.append(BTC_prices)\n",
    "        else:\n",
    "            end = end-datetime.timedelta(minutes = gran_mins*201)\n",
    "            start = end-datetime.timedelta(minutes = gran_mins*200)\n",
    "            v = public_client.get_product_historic_rates(instrument, start, end,  granularity=gran_)\n",
    "            BTC_prices = pd.DataFrame(v)\n",
    "            new_df = new_df.append(BTC_prices)\n",
    "    print(new_df)\n",
    "    new_df['time'] = new_df[0].apply(lambda x: dt.utcfromtimestamp(x).strftime('%Y-%m-%d %H:%M:%S'))\n",
    "    new_df = new_df.iloc[::-1].reset_index(drop=True)\n",
    "    new_df = new_df.drop(columns =[0])\n",
    "    new_df = new_df.rename(columns = {\n",
    "                                            1:\"low\"\n",
    "                                            ,2:\"high\"\n",
    "                                            ,3:\"open\"\n",
    "                                            ,4:\"close\"\n",
    "                                            ,5:\"volume\"\n",
    "                                            })\n",
    "    return new_df"
   ]
  },
  {
   "cell_type": "markdown",
   "metadata": {},
   "source": [
    "### Pull data"
   ]
  },
  {
   "cell_type": "code",
   "execution_count": null,
   "metadata": {},
   "outputs": [
    {
     "name": "stdout",
     "output_type": "stream",
     "text": [
      "UNI-USD\n",
      "144000\n",
      "starting\n",
      "720\n"
     ]
    }
   ],
   "source": [
    "for item in instruments[18:] :\n",
    "    print(item)\n",
    "    data = pull_data(granularity,start,end,candles,item)\n",
    "    string_ = \"minute_last_100_days_\"+str(item)\n",
    "    data.to_csv(string_+\".csv\")\n"
   ]
  }
 ],
 "metadata": {
  "kernelspec": {
   "display_name": "Python 3",
   "language": "python",
   "name": "python3"
  },
  "language_info": {
   "codemirror_mode": {
    "name": "ipython",
    "version": 3
   },
   "file_extension": ".py",
   "mimetype": "text/x-python",
   "name": "python",
   "nbconvert_exporter": "python",
   "pygments_lexer": "ipython3",
   "version": "3.8.5"
  }
 },
 "nbformat": 4,
 "nbformat_minor": 4
}
