{
 "cells": [
  {
   "cell_type": "markdown",
   "metadata": {},
   "source": [
    "### Imports"
   ]
  },
  {
   "cell_type": "code",
   "execution_count": 1,
   "metadata": {},
   "outputs": [],
   "source": [
    "import pandas as pd\n",
    "import cbpro\n",
    "import datetime\n",
    "from datetime import datetime as dt\n",
    "import numpy as np\n",
    "import time\n",
    "import pickle\n",
    "import configparser"
   ]
  },
  {
   "cell_type": "code",
   "execution_count": 2,
   "metadata": {},
   "outputs": [],
   "source": [
    "## Bring in cbpro public client\n",
    "public_client = cbpro.PublicClient()\n",
    "products = public_client.get_products()"
   ]
  },
  {
   "cell_type": "code",
   "execution_count": 3,
   "metadata": {},
   "outputs": [],
   "source": [
    "product_names = []\n",
    "for i in products:\n",
    "    product_names.append(i['id'])"
   ]
  },
  {
   "cell_type": "code",
   "execution_count": 4,
   "metadata": {},
   "outputs": [
    {
     "data": {
      "text/plain": [
       "['C:\\\\Users\\\\hlu\\\\repos\\\\coinbase_v2\\\\config_global.ini']"
      ]
     },
     "execution_count": 4,
     "metadata": {},
     "output_type": "execute_result"
    }
   ],
   "source": [
    "config = configparser.ConfigParser()\n",
    "config.read(r'C:\\Users\\hlu\\repos\\coinbase_v2\\config_global.ini')"
   ]
  },
  {
   "cell_type": "markdown",
   "metadata": {},
   "source": [
    "### Parameters "
   ]
  },
  {
   "cell_type": "code",
   "execution_count": 5,
   "metadata": {},
   "outputs": [],
   "source": [
    "now = datetime.datetime.now()\n",
    "end = now - datetime.timedelta(days=1)\n",
    "start = end - datetime.timedelta(days=100)\n",
    "candles = 200 # Max number of candles that can be ingested through API\n",
    "instruments = product_names\n",
    "granularity = config['PARAMETERS']['granularity']\n",
    "if granularity ==\"minutes\":\n",
    "    granularity = 60"
   ]
  },
  {
   "cell_type": "markdown",
   "metadata": {},
   "source": [
    "### Functions"
   ]
  },
  {
   "cell_type": "code",
   "execution_count": 6,
   "metadata": {},
   "outputs": [],
   "source": [
    "#Function for pulling in data fromcbpro\n",
    "def pull_data(gran_,start,end,candles,instrument):    #granularity [60, 300, 900, 3600, 21600, 86400]\n",
    "    accepted_gran = [60, 300, 900, 3600, 21600, 86400]\n",
    "    if gran_ not in accepted_gran:\n",
    "        print(\"granularity wrong\")\n",
    "        return\n",
    "    gran_mins = gran_/60\n",
    "    gran_hours = gran_mins/60\n",
    "    gran_days = gran_hours / 24\n",
    "    duration = ((end-start)/gran_).seconds + ((end-start)/gran_).days*24*60*60\n",
    "    print(duration)\n",
    "    iterations = int(np.ceil(duration/200))\n",
    "    new_df = pd.DataFrame()\n",
    "    print(\"starting\")\n",
    "    print(iterations)\n",
    "    for i in range(0,iterations):\n",
    "        #print(i)\n",
    "        time.sleep(0.2)\n",
    "        if i ==0:\n",
    "            end = end\n",
    "            start = end-datetime.timedelta(minutes = gran_mins*200)\n",
    "            v = public_client.get_product_historic_rates(instrument, start, end,  granularity=gran_)\n",
    "            BTC_prices = pd.DataFrame(v)\n",
    "            new_df = new_df.append(BTC_prices)\n",
    "        else:\n",
    "            end = end-datetime.timedelta(minutes = gran_mins*201)\n",
    "            start = end-datetime.timedelta(minutes = gran_mins*200)\n",
    "            v = public_client.get_product_historic_rates(instrument, start, end,  granularity=gran_)\n",
    "            BTC_prices = pd.DataFrame(v)\n",
    "            new_df = new_df.append(BTC_prices)\n",
    "    print(new_df)\n",
    "    new_df['time'] = new_df[0].apply(lambda x: dt.utcfromtimestamp(x).strftime('%Y-%m-%d %H:%M:%S'))\n",
    "    new_df = new_df.iloc[::-1].reset_index(drop=True)\n",
    "    new_df = new_df.drop(columns =[0])\n",
    "    new_df = new_df.rename(columns = {\n",
    "                                            1:\"low\"\n",
    "                                            ,2:\"high\"\n",
    "                                            ,3:\"open\"\n",
    "                                            ,4:\"close\"\n",
    "                                            ,5:\"volume\"\n",
    "                                            })\n",
    "    return new_df"
   ]
  },
  {
   "cell_type": "markdown",
   "metadata": {},
   "source": [
    "### Pull data"
   ]
  },
  {
   "cell_type": "code",
   "execution_count": 9,
   "metadata": {},
   "outputs": [],
   "source": [
    "refined_ = []\n",
    "for i in instruments:\n",
    "    if (\"BTC\" in i)|(\"ETH\" in i): \n",
    "        refined_.append(i)\n",
    "\n"
   ]
  },
  {
   "cell_type": "code",
   "execution_count": 17,
   "metadata": {},
   "outputs": [
    {
     "data": {
      "text/plain": [
       "True"
      ]
     },
     "execution_count": 17,
     "metadata": {},
     "output_type": "execute_result"
    }
   ],
   "source": [
    "\"ETH-USD\" in refined_"
   ]
  },
  {
   "cell_type": "code",
   "execution_count": 18,
   "metadata": {},
   "outputs": [
    {
     "data": {
      "text/plain": [
       "True"
      ]
     },
     "execution_count": 18,
     "metadata": {},
     "output_type": "execute_result"
    }
   ],
   "source": [
    "\"BTC-USD\" in refined_"
   ]
  },
  {
   "cell_type": "code",
   "execution_count": 19,
   "metadata": {},
   "outputs": [
    {
     "data": {
      "text/plain": [
       "True"
      ]
     },
     "execution_count": 19,
     "metadata": {},
     "output_type": "execute_result"
    }
   ],
   "source": [
    "\"ETH-BTC\" in refined_"
   ]
  },
  {
   "cell_type": "code",
   "execution_count": 20,
   "metadata": {},
   "outputs": [
    {
     "name": "stdout",
     "output_type": "stream",
     "text": [
      "BTC-USD\n",
      "144000\n",
      "starting\n",
      "720\n",
      "              0         1         2         3         4          5\n",
      "0    1613416440  48634.50  48659.67  48648.00  48640.37   4.325478\n",
      "1    1613416380  48633.59  48648.00  48639.67  48648.00   1.926474\n",
      "2    1613416320  48619.44  48653.59  48653.59  48637.68  10.612604\n",
      "3    1613416260  48636.54  48680.13  48671.59  48653.59   8.905345\n",
      "4    1613416200  48636.32  48671.59  48641.94  48671.59   5.392603\n",
      "..          ...       ...       ...       ...       ...        ...\n",
      "195  1604733600  15495.00  15506.75  15496.43  15501.50   0.594267\n",
      "196  1604733540  15496.43  15512.00  15511.99  15496.43   7.116215\n",
      "197  1604733480  15508.13  15513.30  15513.23  15511.99   2.090170\n",
      "198  1604733420  15510.39  15520.07  15520.06  15513.22   4.489967\n",
      "199  1604733360  15520.06  15527.85  15527.31  15520.06   1.454774\n",
      "\n",
      "[143980 rows x 6 columns]\n",
      "ETH-USD\n",
      "144000\n",
      "starting\n",
      "720\n",
      "              0        1        2        3        4           5\n",
      "0    1613416440  1823.64  1824.50  1824.50  1823.90   75.604237\n",
      "1    1613416380  1824.09  1824.50  1824.31  1824.50   56.644326\n",
      "2    1613416320  1823.00  1824.38  1824.33  1824.31  154.589725\n",
      "3    1613416260  1823.56  1824.50  1824.50  1824.34   76.659101\n",
      "4    1613416200  1823.43  1824.50  1824.20  1824.50  115.008722\n",
      "..          ...      ...      ...      ...      ...         ...\n",
      "195  1604733600   458.51   458.87   458.51   458.86   25.481533\n",
      "196  1604733540   458.51   458.86   458.86   458.52   31.757281\n",
      "197  1604733480   458.19   458.87   458.33   458.86  109.937327\n",
      "198  1604733420   458.03   458.34   458.05   458.34   13.088631\n",
      "199  1604733360   458.00   458.21   458.12   458.16   20.621959\n",
      "\n",
      "[143985 rows x 6 columns]\n",
      "ETH-BTC\n",
      "144000\n",
      "starting\n",
      "720\n",
      "              0        1        2        3        4          5\n",
      "0    1613416440  0.03750  0.03751  0.03750  0.03750   4.817990\n",
      "1    1613416380  0.03749  0.03752  0.03752  0.03750  13.510892\n",
      "2    1613416320  0.03749  0.03752  0.03749  0.03752   6.049804\n",
      "3    1613416260  0.03748  0.03751  0.03750  0.03750  52.575172\n",
      "4    1613416200  0.03749  0.03751  0.03750  0.03749   5.492595\n",
      "..          ...      ...      ...      ...      ...        ...\n",
      "183  1604733720  0.02960  0.02962  0.02962  0.02960   0.907968\n",
      "184  1604733600  0.02960  0.02962  0.02962  0.02962   2.111442\n",
      "185  1604733540  0.02959  0.02960  0.02959  0.02960   2.540514\n",
      "186  1604733480  0.02956  0.02960  0.02956  0.02960   2.278545\n",
      "187  1604733360  0.02952  0.02957  0.02952  0.02957   4.292668\n",
      "\n",
      "[136496 rows x 6 columns]\n"
     ]
    }
   ],
   "source": [
    "for item in [\"BTC-USD\",\"ETH-USD\",\"ETH-BTC\"] :\n",
    "    print(item)\n",
    "    data = pull_data(granularity,start,end,candles,item)\n",
    "    string_ = \"minute_last_100_days_\"+str(item)\n",
    "    data.to_csv(string_+\".csv\")\n"
   ]
  }
 ],
 "metadata": {
  "kernelspec": {
   "display_name": "Python 3",
   "language": "python",
   "name": "python3"
  },
  "language_info": {
   "codemirror_mode": {
    "name": "ipython",
    "version": 3
   },
   "file_extension": ".py",
   "mimetype": "text/x-python",
   "name": "python",
   "nbconvert_exporter": "python",
   "pygments_lexer": "ipython3",
   "version": "3.8.5"
  }
 },
 "nbformat": 4,
 "nbformat_minor": 4
}
