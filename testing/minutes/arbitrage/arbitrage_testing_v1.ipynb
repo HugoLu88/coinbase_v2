{
 "cells": [
  {
   "cell_type": "code",
   "execution_count": 1,
   "metadata": {},
   "outputs": [],
   "source": [
    "import pandas as pd\n",
    "import numpy as np\n",
    "from matplotlib import pyplot as plt\n",
    "import pandas as pd\n",
    "import cbpro\n",
    "import datetime\n",
    "from datetime import datetime as dt\n",
    "import numpy as np\n",
    "import time\n",
    "import pickle\n",
    "import configparser"
   ]
  },
  {
   "cell_type": "markdown",
   "metadata": {},
   "source": [
    "### Get product list"
   ]
  },
  {
   "cell_type": "code",
   "execution_count": 2,
   "metadata": {},
   "outputs": [],
   "source": [
    "## Bring in cbpro public client\n",
    "public_client = cbpro.PublicClient()\n",
    "products = public_client.get_products()"
   ]
  },
  {
   "cell_type": "code",
   "execution_count": 3,
   "metadata": {},
   "outputs": [],
   "source": [
    "product_names = []\n",
    "for i in products:\n",
    "    product_names.append(i['id'])"
   ]
  },
  {
   "cell_type": "code",
   "execution_count": 4,
   "metadata": {},
   "outputs": [],
   "source": [
    "refined = [\"BTC-USD\",\"ETH-USD\",\"ETH-BTC\"] "
   ]
  },
  {
   "cell_type": "code",
   "execution_count": 16,
   "metadata": {},
   "outputs": [],
   "source": [
    "data_1 = pd.read_csv(r\"C:\\Users\\hlu\\repos\\coinbase_v2\\data\\60\\minute_last_100_days_ETH-USD.csv\",index_col = 0)\n"
   ]
  },
  {
   "cell_type": "code",
   "execution_count": 17,
   "metadata": {},
   "outputs": [],
   "source": [
    "data_2 = pd.read_csv(r\"C:\\Users\\hlu\\repos\\coinbase_v2\\data\\60\\minute_last_100_days_ETH-BTC.csv\",index_col = 0)\n",
    "data_3 = pd.read_csv(r\"C:\\Users\\hlu\\repos\\coinbase_v2\\data\\60\\minute_last_100_days_BTC-USD.csv\",index_col = 0)"
   ]
  },
  {
   "cell_type": "code",
   "execution_count": 19,
   "metadata": {},
   "outputs": [],
   "source": []
  },
  {
   "cell_type": "code",
   "execution_count": 28,
   "metadata": {},
   "outputs": [],
   "source": [
    "base_data = pd.DataFrame(data_1['time'])\n",
    "base_data = base_data.merge(data_1[['time','close']],how=\"left\",on=\"time\")\n",
    "base_data.rename(columns = {\"close\":\"ETH-USD\"},inplace=True)\n",
    "base_data = base_data.merge(data_2[['time','close']],how=\"left\",on=\"time\")\n",
    "base_data.rename(columns = {\"close\":\"ETH-BTC\"},inplace=True)\n",
    "base_data = base_data.merge(data_3[['time','close']],how=\"left\",on=\"time\")\n",
    "base_data.rename(columns = {\"close\":\"BTC-USD\"},inplace=True)"
   ]
  },
  {
   "cell_type": "code",
   "execution_count": 34,
   "metadata": {},
   "outputs": [],
   "source": [
    "base_data['return_ETH_to_USD'] = (base_data['ETH-USD']/ base_data['BTC-USD'])/base_data['ETH-BTC']"
   ]
  },
  {
   "cell_type": "code",
   "execution_count": 35,
   "metadata": {},
   "outputs": [],
   "source": [
    "base_data['return_BTC_to_USD'] = (base_data['BTC-USD']/ base_data['ETH-USD'])*base_data['ETH-BTC']"
   ]
  },
  {
   "cell_type": "code",
   "execution_count": 68,
   "metadata": {},
   "outputs": [],
   "source": [
    "n1 = len(base_data[base_data['return_BTC_to_USD']-1>0.003])/len(base_data)"
   ]
  },
  {
   "cell_type": "code",
   "execution_count": 69,
   "metadata": {},
   "outputs": [],
   "source": [
    "n2 = len(base_data[base_data['return_ETH_to_USD']-1>0.003])/len(base_data)"
   ]
  },
  {
   "cell_type": "code",
   "execution_count": 70,
   "metadata": {},
   "outputs": [
    {
     "data": {
      "text/plain": [
       "255.5266173559746"
      ]
     },
     "execution_count": 70,
     "metadata": {},
     "output_type": "execute_result"
    }
   ],
   "source": [
    "60*24*365*n1 #Number of successful trades ina  year"
   ]
  },
  {
   "cell_type": "code",
   "execution_count": 59,
   "metadata": {},
   "outputs": [
    {
     "data": {
      "text/plain": [
       "178.86863214918222"
      ]
     },
     "execution_count": 59,
     "metadata": {},
     "output_type": "execute_result"
    }
   ],
   "source": [
    "60*24*365*n2 #Number of successful trades ina  year"
   ]
  },
  {
   "cell_type": "code",
   "execution_count": 60,
   "metadata": {},
   "outputs": [],
   "source": [
    "trade_data= base_data[(base_data['return_ETH_to_USD']-1>0.003)|(base_data['return_BTC_to_USD']-1>0.003)]"
   ]
  },
  {
   "cell_type": "code",
   "execution_count": 77,
   "metadata": {},
   "outputs": [
    {
     "name": "stderr",
     "output_type": "stream",
     "text": [
      "<ipython-input-77-93a77abd31f9>:1: SettingWithCopyWarning: \n",
      "A value is trying to be set on a copy of a slice from a DataFrame.\n",
      "Try using .loc[row_indexer,col_indexer] = value instead\n",
      "\n",
      "See the caveats in the documentation: https://pandas.pydata.org/pandas-docs/stable/user_guide/indexing.html#returning-a-view-versus-a-copy\n",
      "  trade_data['return'] = np.abs(trade_data['return_ETH_to_USD']-1) - 0.002\n"
     ]
    }
   ],
   "source": [
    "trade_data['return'] = np.abs(trade_data['return_ETH_to_USD']-1) - 0.002"
   ]
  },
  {
   "cell_type": "code",
   "execution_count": 79,
   "metadata": {},
   "outputs": [
    {
     "data": {
      "text/plain": [
       "0.30549447547574304"
      ]
     },
     "execution_count": 79,
     "metadata": {},
     "output_type": "execute_result"
    }
   ],
   "source": [
    "trade_data['return'].sum()"
   ]
  },
  {
   "cell_type": "code",
   "execution_count": 73,
   "metadata": {},
   "outputs": [
    {
     "data": {
      "text/plain": [
       "0.0003403132270722645"
      ]
     },
     "execution_count": 73,
     "metadata": {},
     "output_type": "execute_result"
    }
   ],
   "source": [
    "len(base_data[base_data['return_ETH_to_USD']-1>0.003])/len(base_data)"
   ]
  },
  {
   "cell_type": "code",
   "execution_count": 22,
   "metadata": {},
   "outputs": [],
   "source": [
    "def split_instrument(df,instrument,splitter):\n",
    "    strings = df[instrument][0].split(splitter)\n",
    "    df[\"i1\"],df['i2'] = strings[0],strings[1]\n",
    "    return df"
   ]
  },
  {
   "cell_type": "code",
   "execution_count": 23,
   "metadata": {},
   "outputs": [],
   "source": [
    "data1 = pd.DataFrame(columns = ['price','instrument'])\n",
    "data1['price'] = np.random.normal(10,size=1000)\n",
    "data1['instrument'] = \"BTC-USDT\"\n",
    "data1 = split_instrument(data1,\"instrument\",\"-\")"
   ]
  },
  {
   "cell_type": "code",
   "execution_count": 24,
   "metadata": {},
   "outputs": [],
   "source": [
    "data2 = pd.DataFrame(columns = ['price','instrument'])\n",
    "data2['price'] = np.random.normal(10,size=1000)\n",
    "data2['instrument'] = \"ETH-USDT\"\n",
    "data2 = split_instrument(data2,\"instrument\",\"-\")"
   ]
  },
  {
   "cell_type": "code",
   "execution_count": 25,
   "metadata": {},
   "outputs": [],
   "source": [
    "data3 = pd.DataFrame(columns = ['price','instrument'])\n",
    "data3['price'] = np.random.normal(10,size=1000)\n",
    "data3['instrument'] = \"BTC-ETH\"\n",
    "data3 = split_instrument(data3,\"instrument\",\"-\")\n",
    "data3['price'] = (data1['price']/data2['price']) -0.01"
   ]
  },
  {
   "cell_type": "code",
   "execution_count": 26,
   "metadata": {},
   "outputs": [],
   "source": [
    "data = [data1['instrument'][0],data2['instrument'][0],data3['instrument'][0]]"
   ]
  },
  {
   "cell_type": "code",
   "execution_count": 30,
   "metadata": {},
   "outputs": [
    {
     "data": {
      "text/plain": [
       "['BTC-USDT', 'ETH-USDT', 'BTC-ETH']"
      ]
     },
     "execution_count": 30,
     "metadata": {},
     "output_type": "execute_result"
    }
   ],
   "source": [
    "data"
   ]
  },
  {
   "cell_type": "code",
   "execution_count": null,
   "metadata": {},
   "outputs": [],
   "source": []
  },
  {
   "cell_type": "code",
   "execution_count": 27,
   "metadata": {},
   "outputs": [],
   "source": [
    "first_pairs = []\n",
    "second_pairs = []\n",
    "for i in data:\n",
    "    if \"BTC\" in i:\n",
    "        first_pairs.append(i)\n",
    "    if \"USDT\" in i:\n",
    "        second_pairs.append(i)\n"
   ]
  },
  {
   "cell_type": "code",
   "execution_count": 28,
   "metadata": {},
   "outputs": [],
   "source": [
    "def three_pairs(a,b,c): #a is asset1/currency, b is asset 2/currency, c is asset 1 / asset 2\n",
    "    difference = a/b - c\n",
    "    pct_dif = difference / c\n",
    "    # If the pct dif is positive, this implies the price of asset 1 in terms of asset 2 is greater when transacting directly\n",
    "    # rather than going through USDT. This means asset 1 should be bought with currency, sold directly for asset 2,\n",
    "    # which in turn should be used to re-purchase currency\n",
    "    \n",
    "    #If the pct dif is negative, this implies the price of asset 1 in terms of asset 2 is lower when transacting directly\n",
    "    # rather than going through USDT. This means asset 2 should be bought with currency, sold directly for asset 1, which\n",
    "    # in turn should be used to re-purchase currency\n",
    "    return pct_dif\n",
    "    "
   ]
  },
  {
   "cell_type": "code",
   "execution_count": 29,
   "metadata": {},
   "outputs": [
    {
     "data": {
      "text/plain": [
       "0      0.012390\n",
       "1      0.009840\n",
       "2      0.009774\n",
       "3      0.008167\n",
       "4      0.010520\n",
       "         ...   \n",
       "995    0.015002\n",
       "996    0.010344\n",
       "997    0.009490\n",
       "998    0.009591\n",
       "999    0.007515\n",
       "Name: price, Length: 1000, dtype: float64"
      ]
     },
     "execution_count": 29,
     "metadata": {},
     "output_type": "execute_result"
    }
   ],
   "source": [
    "three_pairs(data1['price'],data2['price'],data3['price'])"
   ]
  },
  {
   "cell_type": "code",
   "execution_count": null,
   "metadata": {},
   "outputs": [],
   "source": [
    "def trade(df,signal):\n",
    "    while signal>0:\n",
    "        #sell ETH for USDT -100ETH\n",
    "        #Buy BTC for USDT +200BTC\n",
    "        # Sell BTC for ETH direct -100BTC, +100 ETH ; net up 100BTC"
   ]
  },
  {
   "cell_type": "code",
   "execution_count": 77,
   "metadata": {},
   "outputs": [
    {
     "data": {
      "text/html": [
       "<div>\n",
       "<style scoped>\n",
       "    .dataframe tbody tr th:only-of-type {\n",
       "        vertical-align: middle;\n",
       "    }\n",
       "\n",
       "    .dataframe tbody tr th {\n",
       "        vertical-align: top;\n",
       "    }\n",
       "\n",
       "    .dataframe thead th {\n",
       "        text-align: right;\n",
       "    }\n",
       "</style>\n",
       "<table border=\"1\" class=\"dataframe\">\n",
       "  <thead>\n",
       "    <tr style=\"text-align: right;\">\n",
       "      <th></th>\n",
       "      <th>price</th>\n",
       "      <th>instrument</th>\n",
       "      <th>i1</th>\n",
       "      <th>i2</th>\n",
       "    </tr>\n",
       "  </thead>\n",
       "  <tbody>\n",
       "    <tr>\n",
       "      <th>0</th>\n",
       "      <td>10.913011</td>\n",
       "      <td>BTC-USDT</td>\n",
       "      <td>BTC</td>\n",
       "      <td>USDT</td>\n",
       "    </tr>\n",
       "    <tr>\n",
       "      <th>1</th>\n",
       "      <td>9.602708</td>\n",
       "      <td>BTC-USDT</td>\n",
       "      <td>BTC</td>\n",
       "      <td>USDT</td>\n",
       "    </tr>\n",
       "    <tr>\n",
       "      <th>2</th>\n",
       "      <td>10.479483</td>\n",
       "      <td>BTC-USDT</td>\n",
       "      <td>BTC</td>\n",
       "      <td>USDT</td>\n",
       "    </tr>\n",
       "    <tr>\n",
       "      <th>3</th>\n",
       "      <td>7.481865</td>\n",
       "      <td>BTC-USDT</td>\n",
       "      <td>BTC</td>\n",
       "      <td>USDT</td>\n",
       "    </tr>\n",
       "  </tbody>\n",
       "</table>\n",
       "</div>"
      ],
      "text/plain": [
       "       price instrument   i1    i2\n",
       "0  10.913011   BTC-USDT  BTC  USDT\n",
       "1   9.602708   BTC-USDT  BTC  USDT\n",
       "2  10.479483   BTC-USDT  BTC  USDT\n",
       "3   7.481865   BTC-USDT  BTC  USDT"
      ]
     },
     "execution_count": 77,
     "metadata": {},
     "output_type": "execute_result"
    }
   ],
   "source": [
    "#a positive number indicates the price via usdt of B in terms of A is higher than in the A B market\n",
    "# Therefore, we should take B, convert it to usdt then sellusdt for A.We should then sell A for B in the direct market, and repeat\n"
   ]
  },
  {
   "cell_type": "code",
   "execution_count": 78,
   "metadata": {},
   "outputs": [
    {
     "data": {
      "text/html": [
       "<div>\n",
       "<style scoped>\n",
       "    .dataframe tbody tr th:only-of-type {\n",
       "        vertical-align: middle;\n",
       "    }\n",
       "\n",
       "    .dataframe tbody tr th {\n",
       "        vertical-align: top;\n",
       "    }\n",
       "\n",
       "    .dataframe thead th {\n",
       "        text-align: right;\n",
       "    }\n",
       "</style>\n",
       "<table border=\"1\" class=\"dataframe\">\n",
       "  <thead>\n",
       "    <tr style=\"text-align: right;\">\n",
       "      <th></th>\n",
       "      <th>price</th>\n",
       "      <th>instrument</th>\n",
       "      <th>i1</th>\n",
       "      <th>i2</th>\n",
       "    </tr>\n",
       "  </thead>\n",
       "  <tbody>\n",
       "    <tr>\n",
       "      <th>0</th>\n",
       "      <td>6.980550</td>\n",
       "      <td>ETH-USDT</td>\n",
       "      <td>ETH</td>\n",
       "      <td>USDT</td>\n",
       "    </tr>\n",
       "    <tr>\n",
       "      <th>1</th>\n",
       "      <td>8.376340</td>\n",
       "      <td>ETH-USDT</td>\n",
       "      <td>ETH</td>\n",
       "      <td>USDT</td>\n",
       "    </tr>\n",
       "    <tr>\n",
       "      <th>2</th>\n",
       "      <td>11.076664</td>\n",
       "      <td>ETH-USDT</td>\n",
       "      <td>ETH</td>\n",
       "      <td>USDT</td>\n",
       "    </tr>\n",
       "    <tr>\n",
       "      <th>3</th>\n",
       "      <td>8.902408</td>\n",
       "      <td>ETH-USDT</td>\n",
       "      <td>ETH</td>\n",
       "      <td>USDT</td>\n",
       "    </tr>\n",
       "  </tbody>\n",
       "</table>\n",
       "</div>"
      ],
      "text/plain": [
       "       price instrument   i1    i2\n",
       "0   6.980550   ETH-USDT  ETH  USDT\n",
       "1   8.376340   ETH-USDT  ETH  USDT\n",
       "2  11.076664   ETH-USDT  ETH  USDT\n",
       "3   8.902408   ETH-USDT  ETH  USDT"
      ]
     },
     "execution_count": 78,
     "metadata": {},
     "output_type": "execute_result"
    }
   ],
   "source": [
    "data2.head(4)"
   ]
  },
  {
   "cell_type": "code",
   "execution_count": 79,
   "metadata": {},
   "outputs": [
    {
     "data": {
      "text/html": [
       "<div>\n",
       "<style scoped>\n",
       "    .dataframe tbody tr th:only-of-type {\n",
       "        vertical-align: middle;\n",
       "    }\n",
       "\n",
       "    .dataframe tbody tr th {\n",
       "        vertical-align: top;\n",
       "    }\n",
       "\n",
       "    .dataframe thead th {\n",
       "        text-align: right;\n",
       "    }\n",
       "</style>\n",
       "<table border=\"1\" class=\"dataframe\">\n",
       "  <thead>\n",
       "    <tr style=\"text-align: right;\">\n",
       "      <th></th>\n",
       "      <th>price</th>\n",
       "      <th>instrument</th>\n",
       "      <th>i1</th>\n",
       "      <th>i2</th>\n",
       "    </tr>\n",
       "  </thead>\n",
       "  <tbody>\n",
       "    <tr>\n",
       "      <th>0</th>\n",
       "      <td>12.754485</td>\n",
       "      <td>BTC-ETH</td>\n",
       "      <td>BTC</td>\n",
       "      <td>ETH</td>\n",
       "    </tr>\n",
       "    <tr>\n",
       "      <th>1</th>\n",
       "      <td>13.705003</td>\n",
       "      <td>BTC-ETH</td>\n",
       "      <td>BTC</td>\n",
       "      <td>ETH</td>\n",
       "    </tr>\n",
       "    <tr>\n",
       "      <th>2</th>\n",
       "      <td>10.011291</td>\n",
       "      <td>BTC-ETH</td>\n",
       "      <td>BTC</td>\n",
       "      <td>ETH</td>\n",
       "    </tr>\n",
       "    <tr>\n",
       "      <th>3</th>\n",
       "      <td>9.677894</td>\n",
       "      <td>BTC-ETH</td>\n",
       "      <td>BTC</td>\n",
       "      <td>ETH</td>\n",
       "    </tr>\n",
       "  </tbody>\n",
       "</table>\n",
       "</div>"
      ],
      "text/plain": [
       "       price instrument   i1   i2\n",
       "0  12.754485    BTC-ETH  BTC  ETH\n",
       "1  13.705003    BTC-ETH  BTC  ETH\n",
       "2  10.011291    BTC-ETH  BTC  ETH\n",
       "3   9.677894    BTC-ETH  BTC  ETH"
      ]
     },
     "execution_count": 79,
     "metadata": {},
     "output_type": "execute_result"
    }
   ],
   "source": [
    "data3.head(4)"
   ]
  },
  {
   "cell_type": "code",
   "execution_count": null,
   "metadata": {},
   "outputs": [],
   "source": []
  }
 ],
 "metadata": {
  "kernelspec": {
   "display_name": "Python 3",
   "language": "python",
   "name": "python3"
  },
  "language_info": {
   "codemirror_mode": {
    "name": "ipython",
    "version": 3
   },
   "file_extension": ".py",
   "mimetype": "text/x-python",
   "name": "python",
   "nbconvert_exporter": "python",
   "pygments_lexer": "ipython3",
   "version": "3.8.5"
  }
 },
 "nbformat": 4,
 "nbformat_minor": 4
}
