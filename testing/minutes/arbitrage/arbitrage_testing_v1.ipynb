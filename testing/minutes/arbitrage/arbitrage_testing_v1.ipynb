{
 "cells": [
  {
   "cell_type": "code",
   "execution_count": 1,
   "metadata": {},
   "outputs": [],
   "source": [
    "import pandas as pd\n",
    "import numpy as np\n",
    "from matplotlib import pyplot as plt"
   ]
  },
  {
   "cell_type": "code",
   "execution_count": null,
   "metadata": {},
   "outputs": [],
   "source": [
    "def split_instrument(df,instrument,splitter):\n",
    "    strings = df[instrument][0].split(splitter)\n",
    "    df[\"i1\"],df['i2'] = strings[0],strings[1]\n",
    "    return df"
   ]
  },
  {
   "cell_type": "code",
   "execution_count": 83,
   "metadata": {},
   "outputs": [],
   "source": [
    "data1 = pd.DataFrame(columns = ['price','instrument'])\n",
    "data1['price'] = np.random.normal(10,size=1000)\n",
    "data1['instrument'] = \"BTC-USDT\"\n",
    "data1 = split_instrument(data1,\"instrument\",\"-\")"
   ]
  },
  {
   "cell_type": "code",
   "execution_count": 84,
   "metadata": {},
   "outputs": [],
   "source": [
    "data2 = pd.DataFrame(columns = ['price','instrument'])\n",
    "data2['price'] = np.random.normal(10,size=1000)\n",
    "data2['instrument'] = \"ETH-USDT\"\n",
    "data2 = split_instrument(data2,\"instrument\",\"-\")"
   ]
  },
  {
   "cell_type": "code",
   "execution_count": 96,
   "metadata": {},
   "outputs": [],
   "source": [
    "data3 = pd.DataFrame(columns = ['price','instrument'])\n",
    "data3['price'] = np.random.normal(10,size=1000)\n",
    "data3['instrument'] = \"BTC-ETH\"\n",
    "data3 = split_instrument(data3,\"instrument\",\"-\")\n",
    "data3['price'] = (data1['price']/data2['price']) -0.01"
   ]
  },
  {
   "cell_type": "code",
   "execution_count": 86,
   "metadata": {},
   "outputs": [],
   "source": [
    "data = [data1['instrument'][0],data2['instrument'][0],data3['instrument'][0]]"
   ]
  },
  {
   "cell_type": "code",
   "execution_count": 87,
   "metadata": {},
   "outputs": [],
   "source": [
    "first_pairs = []\n",
    "second_pairs = []\n",
    "for i in data:\n",
    "    if \"BTC\" in i:\n",
    "        first_pairs.append(i)\n",
    "    if \"USDT\" in i:\n",
    "        second_pairs.append(i)\n"
   ]
  },
  {
   "cell_type": "code",
   "execution_count": 88,
   "metadata": {},
   "outputs": [],
   "source": [
    "def three_pairs(a,b,c):\n",
    "    difference = a/b - c\n",
    "    pct_dif = difference / c\n",
    "    return pct_dif\n",
    "    "
   ]
  },
  {
   "cell_type": "code",
   "execution_count": 97,
   "metadata": {},
   "outputs": [
    {
     "data": {
      "text/plain": [
       "0      0.010064\n",
       "1      0.007907\n",
       "2      0.012741\n",
       "3      0.008985\n",
       "4      0.010632\n",
       "         ...   \n",
       "995    0.010190\n",
       "996    0.008573\n",
       "997    0.010679\n",
       "998    0.009691\n",
       "999    0.008659\n",
       "Name: price, Length: 1000, dtype: float64"
      ]
     },
     "execution_count": 97,
     "metadata": {},
     "output_type": "execute_result"
    }
   ],
   "source": [
    "three_pairs(data1['price'],data2['price'],data3['price'])"
   ]
  },
  {
   "cell_type": "code",
   "execution_count": null,
   "metadata": {},
   "outputs": [],
   "source": [
    "def trade(df,signal):\n",
    "    while signal>0:\n",
    "        #sell ETH for USDT -100ETH\n",
    "        #Buy BTC for USDT +200BTC\n",
    "        # Sell BTC for ETH direct -100BTC, +100 ETH ; net up 100BTC"
   ]
  },
  {
   "cell_type": "code",
   "execution_count": 77,
   "metadata": {},
   "outputs": [
    {
     "data": {
      "text/html": [
       "<div>\n",
       "<style scoped>\n",
       "    .dataframe tbody tr th:only-of-type {\n",
       "        vertical-align: middle;\n",
       "    }\n",
       "\n",
       "    .dataframe tbody tr th {\n",
       "        vertical-align: top;\n",
       "    }\n",
       "\n",
       "    .dataframe thead th {\n",
       "        text-align: right;\n",
       "    }\n",
       "</style>\n",
       "<table border=\"1\" class=\"dataframe\">\n",
       "  <thead>\n",
       "    <tr style=\"text-align: right;\">\n",
       "      <th></th>\n",
       "      <th>price</th>\n",
       "      <th>instrument</th>\n",
       "      <th>i1</th>\n",
       "      <th>i2</th>\n",
       "    </tr>\n",
       "  </thead>\n",
       "  <tbody>\n",
       "    <tr>\n",
       "      <th>0</th>\n",
       "      <td>10.913011</td>\n",
       "      <td>BTC-USDT</td>\n",
       "      <td>BTC</td>\n",
       "      <td>USDT</td>\n",
       "    </tr>\n",
       "    <tr>\n",
       "      <th>1</th>\n",
       "      <td>9.602708</td>\n",
       "      <td>BTC-USDT</td>\n",
       "      <td>BTC</td>\n",
       "      <td>USDT</td>\n",
       "    </tr>\n",
       "    <tr>\n",
       "      <th>2</th>\n",
       "      <td>10.479483</td>\n",
       "      <td>BTC-USDT</td>\n",
       "      <td>BTC</td>\n",
       "      <td>USDT</td>\n",
       "    </tr>\n",
       "    <tr>\n",
       "      <th>3</th>\n",
       "      <td>7.481865</td>\n",
       "      <td>BTC-USDT</td>\n",
       "      <td>BTC</td>\n",
       "      <td>USDT</td>\n",
       "    </tr>\n",
       "  </tbody>\n",
       "</table>\n",
       "</div>"
      ],
      "text/plain": [
       "       price instrument   i1    i2\n",
       "0  10.913011   BTC-USDT  BTC  USDT\n",
       "1   9.602708   BTC-USDT  BTC  USDT\n",
       "2  10.479483   BTC-USDT  BTC  USDT\n",
       "3   7.481865   BTC-USDT  BTC  USDT"
      ]
     },
     "execution_count": 77,
     "metadata": {},
     "output_type": "execute_result"
    }
   ],
   "source": [
    "#a positive number indicates the price via usdt of B in terms of A is higher than in the A B market\n",
    "# Therefore, we should take B, convert it to usdt then sellusdt for A.We should then sell A for B in the direct market, and repeat\n"
   ]
  },
  {
   "cell_type": "code",
   "execution_count": 78,
   "metadata": {},
   "outputs": [
    {
     "data": {
      "text/html": [
       "<div>\n",
       "<style scoped>\n",
       "    .dataframe tbody tr th:only-of-type {\n",
       "        vertical-align: middle;\n",
       "    }\n",
       "\n",
       "    .dataframe tbody tr th {\n",
       "        vertical-align: top;\n",
       "    }\n",
       "\n",
       "    .dataframe thead th {\n",
       "        text-align: right;\n",
       "    }\n",
       "</style>\n",
       "<table border=\"1\" class=\"dataframe\">\n",
       "  <thead>\n",
       "    <tr style=\"text-align: right;\">\n",
       "      <th></th>\n",
       "      <th>price</th>\n",
       "      <th>instrument</th>\n",
       "      <th>i1</th>\n",
       "      <th>i2</th>\n",
       "    </tr>\n",
       "  </thead>\n",
       "  <tbody>\n",
       "    <tr>\n",
       "      <th>0</th>\n",
       "      <td>6.980550</td>\n",
       "      <td>ETH-USDT</td>\n",
       "      <td>ETH</td>\n",
       "      <td>USDT</td>\n",
       "    </tr>\n",
       "    <tr>\n",
       "      <th>1</th>\n",
       "      <td>8.376340</td>\n",
       "      <td>ETH-USDT</td>\n",
       "      <td>ETH</td>\n",
       "      <td>USDT</td>\n",
       "    </tr>\n",
       "    <tr>\n",
       "      <th>2</th>\n",
       "      <td>11.076664</td>\n",
       "      <td>ETH-USDT</td>\n",
       "      <td>ETH</td>\n",
       "      <td>USDT</td>\n",
       "    </tr>\n",
       "    <tr>\n",
       "      <th>3</th>\n",
       "      <td>8.902408</td>\n",
       "      <td>ETH-USDT</td>\n",
       "      <td>ETH</td>\n",
       "      <td>USDT</td>\n",
       "    </tr>\n",
       "  </tbody>\n",
       "</table>\n",
       "</div>"
      ],
      "text/plain": [
       "       price instrument   i1    i2\n",
       "0   6.980550   ETH-USDT  ETH  USDT\n",
       "1   8.376340   ETH-USDT  ETH  USDT\n",
       "2  11.076664   ETH-USDT  ETH  USDT\n",
       "3   8.902408   ETH-USDT  ETH  USDT"
      ]
     },
     "execution_count": 78,
     "metadata": {},
     "output_type": "execute_result"
    }
   ],
   "source": [
    "data2.head(4)"
   ]
  },
  {
   "cell_type": "code",
   "execution_count": 79,
   "metadata": {},
   "outputs": [
    {
     "data": {
      "text/html": [
       "<div>\n",
       "<style scoped>\n",
       "    .dataframe tbody tr th:only-of-type {\n",
       "        vertical-align: middle;\n",
       "    }\n",
       "\n",
       "    .dataframe tbody tr th {\n",
       "        vertical-align: top;\n",
       "    }\n",
       "\n",
       "    .dataframe thead th {\n",
       "        text-align: right;\n",
       "    }\n",
       "</style>\n",
       "<table border=\"1\" class=\"dataframe\">\n",
       "  <thead>\n",
       "    <tr style=\"text-align: right;\">\n",
       "      <th></th>\n",
       "      <th>price</th>\n",
       "      <th>instrument</th>\n",
       "      <th>i1</th>\n",
       "      <th>i2</th>\n",
       "    </tr>\n",
       "  </thead>\n",
       "  <tbody>\n",
       "    <tr>\n",
       "      <th>0</th>\n",
       "      <td>12.754485</td>\n",
       "      <td>BTC-ETH</td>\n",
       "      <td>BTC</td>\n",
       "      <td>ETH</td>\n",
       "    </tr>\n",
       "    <tr>\n",
       "      <th>1</th>\n",
       "      <td>13.705003</td>\n",
       "      <td>BTC-ETH</td>\n",
       "      <td>BTC</td>\n",
       "      <td>ETH</td>\n",
       "    </tr>\n",
       "    <tr>\n",
       "      <th>2</th>\n",
       "      <td>10.011291</td>\n",
       "      <td>BTC-ETH</td>\n",
       "      <td>BTC</td>\n",
       "      <td>ETH</td>\n",
       "    </tr>\n",
       "    <tr>\n",
       "      <th>3</th>\n",
       "      <td>9.677894</td>\n",
       "      <td>BTC-ETH</td>\n",
       "      <td>BTC</td>\n",
       "      <td>ETH</td>\n",
       "    </tr>\n",
       "  </tbody>\n",
       "</table>\n",
       "</div>"
      ],
      "text/plain": [
       "       price instrument   i1   i2\n",
       "0  12.754485    BTC-ETH  BTC  ETH\n",
       "1  13.705003    BTC-ETH  BTC  ETH\n",
       "2  10.011291    BTC-ETH  BTC  ETH\n",
       "3   9.677894    BTC-ETH  BTC  ETH"
      ]
     },
     "execution_count": 79,
     "metadata": {},
     "output_type": "execute_result"
    }
   ],
   "source": [
    "data3.head(4)"
   ]
  },
  {
   "cell_type": "code",
   "execution_count": null,
   "metadata": {},
   "outputs": [],
   "source": []
  }
 ],
 "metadata": {
  "kernelspec": {
   "display_name": "Python 3",
   "language": "python",
   "name": "python3"
  },
  "language_info": {
   "codemirror_mode": {
    "name": "ipython",
    "version": 3
   },
   "file_extension": ".py",
   "mimetype": "text/x-python",
   "name": "python",
   "nbconvert_exporter": "python",
   "pygments_lexer": "ipython3",
   "version": "3.8.5"
  }
 },
 "nbformat": 4,
 "nbformat_minor": 4
}
